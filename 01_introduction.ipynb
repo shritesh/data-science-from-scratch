{
 "cells": [
  {
   "cell_type": "code",
   "execution_count": 1,
   "metadata": {},
   "outputs": [],
   "source": [
    "users = [\n",
    "    (id = 0, name = \"Hero\"),\n",
    "    (id = 1, name = \"Dunn\"),\n",
    "    (id = 2, name = \"Sue\"),\n",
    "    (id = 3, name = \"Chi\"),\n",
    "    (id = 4, name = \"Thor\"),\n",
    "    (id = 5, name = \"Clive\"),\n",
    "    (id = 6, name = \"Hicks\"),\n",
    "    (id = 7, name = \"Devin\"),\n",
    "    (id = 8, name = \"Kate\"),\n",
    "    (id = 9, name = \"Klein\"),\n",
    "];"
   ]
  },
  {
   "cell_type": "code",
   "execution_count": 2,
   "metadata": {},
   "outputs": [],
   "source": [
    "friendship_pairs = [\n",
    "    (0, 1),\n",
    "    (0, 2),\n",
    "    (1, 2),\n",
    "    (1, 3),\n",
    "    (2, 3),\n",
    "    (3, 4),\n",
    "    (4, 5),\n",
    "    (5, 6),\n",
    "    (5, 7),\n",
    "    (6, 8),\n",
    "    (7, 8),\n",
    "    (8, 9),\n",
    "];"
   ]
  },
  {
   "cell_type": "code",
   "execution_count": 3,
   "metadata": {},
   "outputs": [
    {
     "data": {
      "text/plain": [
       "Dict{Int64,Array{Any,1}} with 10 entries:\n",
       "  0 => Any[1, 2]\n",
       "  4 => Any[3, 5]\n",
       "  7 => Any[5, 8]\n",
       "  9 => Any[8]\n",
       "  2 => Any[0, 1, 3]\n",
       "  3 => Any[1, 2, 4]\n",
       "  5 => Any[4, 6, 7]\n",
       "  8 => Any[6, 7, 9]\n",
       "  6 => Any[5, 8]\n",
       "  1 => Any[0, 2, 3]"
      ]
     },
     "execution_count": 3,
     "metadata": {},
     "output_type": "execute_result"
    }
   ],
   "source": [
    "# Initialize the dict with an empty list for each user id:\n",
    "friendships = Dict(user.id => [] for user in users)\n",
    "\n",
    "# And loop over the friendship pairs to populate it:\n",
    "for (i, j) in friendship_pairs\n",
    "    push!(friendships[i], j)\n",
    "    push!(friendships[j], i)\n",
    "end\n",
    "\n",
    "friendships"
   ]
  },
  {
   "cell_type": "code",
   "execution_count": 4,
   "metadata": {},
   "outputs": [
    {
     "data": {
      "text/plain": [
       "number_of_friends"
      ]
     },
     "execution_count": 4,
     "metadata": {},
     "output_type": "execute_result"
    }
   ],
   "source": [
    "\"How many friends does `user` have?\"\n",
    "function number_of_friends(user)\n",
    "    friend_ids = friendships[user.id]\n",
    "    length(friend_ids)\n",
    "end"
   ]
  },
  {
   "cell_type": "code",
   "execution_count": 5,
   "metadata": {},
   "outputs": [
    {
     "data": {
      "text/plain": [
       "3"
      ]
     },
     "execution_count": 5,
     "metadata": {},
     "output_type": "execute_result"
    }
   ],
   "source": [
    "number_of_friends(users[2])"
   ]
  },
  {
   "cell_type": "code",
   "execution_count": 6,
   "metadata": {},
   "outputs": [
    {
     "data": {
      "text/plain": [
       "24"
      ]
     },
     "execution_count": 6,
     "metadata": {},
     "output_type": "execute_result"
    }
   ],
   "source": [
    "total_connections = sum(number_of_friends(user) for user in users)"
   ]
  },
  {
   "cell_type": "code",
   "execution_count": 7,
   "metadata": {},
   "outputs": [
    {
     "data": {
      "text/plain": [
       "10"
      ]
     },
     "execution_count": 7,
     "metadata": {},
     "output_type": "execute_result"
    }
   ],
   "source": [
    "num_users = length(users)"
   ]
  },
  {
   "cell_type": "code",
   "execution_count": 8,
   "metadata": {},
   "outputs": [
    {
     "data": {
      "text/plain": [
       "2.4"
      ]
     },
     "execution_count": 8,
     "metadata": {},
     "output_type": "execute_result"
    }
   ],
   "source": [
    "avg_connections = total_connections / num_users"
   ]
  },
  {
   "cell_type": "code",
   "execution_count": 9,
   "metadata": {},
   "outputs": [
    {
     "data": {
      "text/plain": [
       "10-element Array{Tuple{Int64,Int64},1}:\n",
       " (0, 2)\n",
       " (1, 3)\n",
       " (2, 3)\n",
       " (3, 3)\n",
       " (4, 2)\n",
       " (5, 3)\n",
       " (6, 2)\n",
       " (7, 2)\n",
       " (8, 3)\n",
       " (9, 1)"
      ]
     },
     "execution_count": 9,
     "metadata": {},
     "output_type": "execute_result"
    }
   ],
   "source": [
    "num_friends_by_id = [(user.id, number_of_friends(user)) for user in users]"
   ]
  },
  {
   "cell_type": "code",
   "execution_count": 10,
   "metadata": {},
   "outputs": [
    {
     "data": {
      "text/plain": [
       "10-element Array{Tuple{Int64,Int64},1}:\n",
       " (1, 3)\n",
       " (2, 3)\n",
       " (3, 3)\n",
       " (5, 3)\n",
       " (8, 3)\n",
       " (0, 2)\n",
       " (4, 2)\n",
       " (6, 2)\n",
       " (7, 2)\n",
       " (9, 1)"
      ]
     },
     "execution_count": 10,
     "metadata": {},
     "output_type": "execute_result"
    }
   ],
   "source": [
    "sort!(num_friends_by_id, by = id_and_friends -> id_and_friends[2], rev=true)"
   ]
  },
  {
   "cell_type": "code",
   "execution_count": 11,
   "metadata": {},
   "outputs": [
    {
     "data": {
      "text/plain": [
       "foaf_ids_bad"
      ]
     },
     "execution_count": 11,
     "metadata": {},
     "output_type": "execute_result"
    }
   ],
   "source": [
    "\"FOAF is short for 'friend of a friend'\"\n",
    "function foaf_ids_bad(user)\n",
    "    [\n",
    "        foaf_id for friend_id in friendships[user.id]\n",
    "        for foaf_id in friendships[friend_id]\n",
    "    ]\n",
    "\n",
    "end"
   ]
  },
  {
   "cell_type": "code",
   "execution_count": 12,
   "metadata": {},
   "outputs": [
    {
     "data": {
      "text/plain": [
       "6-element Array{Int64,1}:\n",
       " 0\n",
       " 2\n",
       " 3\n",
       " 0\n",
       " 1\n",
       " 3"
      ]
     },
     "execution_count": 12,
     "metadata": {},
     "output_type": "execute_result"
    }
   ],
   "source": [
    "foaf_ids_bad(users[1])"
   ]
  },
  {
   "cell_type": "code",
   "execution_count": 13,
   "metadata": {},
   "outputs": [],
   "source": [
    "using DataStructures"
   ]
  },
  {
   "cell_type": "code",
   "execution_count": 14,
   "metadata": {},
   "outputs": [
    {
     "data": {
      "text/plain": [
       "friends_of_friends (generic function with 1 method)"
      ]
     },
     "execution_count": 14,
     "metadata": {},
     "output_type": "execute_result"
    }
   ],
   "source": [
    "friends_of_friends(user) = counter(\n",
    "    foaf_id \n",
    "    for friend_id in friendships[user.id]\n",
    "        for foaf_id in friendships[friend_id] \n",
    "            if foaf_id != user.id && !(foaf_id in friendships[user.id]))"
   ]
  },
  {
   "cell_type": "code",
   "execution_count": 15,
   "metadata": {},
   "outputs": [
    {
     "data": {
      "text/plain": [
       "Accumulator{Any,Int64} with 2 entries:\n",
       "  0 => 2\n",
       "  5 => 1"
      ]
     },
     "execution_count": 15,
     "metadata": {},
     "output_type": "execute_result"
    }
   ],
   "source": [
    "friends_of_friends(users[4])"
   ]
  },
  {
   "cell_type": "code",
   "execution_count": 16,
   "metadata": {},
   "outputs": [
    {
     "data": {
      "text/plain": [
       "49-element Array{Tuple{Int64,String},1}:\n",
       " (0, \"Hadoop\")\n",
       " (0, \"Big Data\")\n",
       " (0, \"HBase\")\n",
       " (0, \"Java\")\n",
       " (0, \"Spark\")\n",
       " (0, \"Storm\")\n",
       " (0, \"Cassandra\")\n",
       " (1, \"NoSQL\")\n",
       " (1, \"MongoDB\")\n",
       " (1, \"Cassandra\")\n",
       " (1, \"HBase\")\n",
       " (1, \"Postgres\")\n",
       " (2, \"Python\")\n",
       " ⋮\n",
       " (7, \"machine learning\")\n",
       " (7, \"scikit-learn\")\n",
       " (7, \"Mahout\")\n",
       " (7, \"neural networks\")\n",
       " (8, \"neural networks\")\n",
       " (8, \"deep learning\")\n",
       " (8, \"Big Data\")\n",
       " (8, \"artificial intelligence\")\n",
       " (9, \"Hadoop\")\n",
       " (9, \"Java\")\n",
       " (9, \"MapReduce\")\n",
       " (9, \"Big Data\")"
      ]
     },
     "execution_count": 16,
     "metadata": {},
     "output_type": "execute_result"
    }
   ],
   "source": [
    "interests = [\n",
    "    (0, \"Hadoop\"),\n",
    "    (0, \"Big Data\"),\n",
    "    (0, \"HBase\"),\n",
    "    (0, \"Java\"),\n",
    "    (0, \"Spark\"),\n",
    "    (0, \"Storm\"),\n",
    "    (0, \"Cassandra\"),\n",
    "    (1, \"NoSQL\"),\n",
    "    (1, \"MongoDB\"),\n",
    "    (1, \"Cassandra\"),\n",
    "    (1, \"HBase\"),\n",
    "    (1, \"Postgres\"),\n",
    "    (2, \"Python\"),\n",
    "    (2, \"scikit-learn\"),\n",
    "    (2, \"scipy\"),\n",
    "    (2, \"numpy\"),\n",
    "    (2, \"statsmodels\"),\n",
    "    (2, \"pandas\"),\n",
    "    (3, \"R\"),\n",
    "    (3, \"Python\"),\n",
    "    (3, \"statistics\"),\n",
    "    (3, \"regression\"),\n",
    "    (3, \"probability\"),\n",
    "    (4, \"machine learning\"),\n",
    "    (4, \"regression\"),\n",
    "    (4, \"decision trees\"),\n",
    "    (4, \"libsvm\"),\n",
    "    (5, \"Python\"),\n",
    "    (5, \"R\"),\n",
    "    (5, \"Java\"),\n",
    "    (5, \"C++\"),\n",
    "    (5, \"Haskell\"),\n",
    "    (5, \"programming languages\"),\n",
    "    (6, \"statistics\"),\n",
    "    (6, \"probability\"),\n",
    "    (6, \"mathematics\"),\n",
    "    (6, \"theory\"),\n",
    "    (7, \"machine learning\"),\n",
    "    (7, \"scikit-learn\"),\n",
    "    (7, \"Mahout\"),\n",
    "    (7, \"neural networks\"),\n",
    "    (8, \"neural networks\"),\n",
    "    (8, \"deep learning\"),\n",
    "    (8, \"Big Data\"),\n",
    "    (8, \"artificial intelligence\"),\n",
    "    (9, \"Hadoop\"),\n",
    "    (9, \"Java\"),\n",
    "    (9, \"MapReduce\"),\n",
    "    (9, \"Big Data\"),\n",
    "]"
   ]
  },
  {
   "cell_type": "code",
   "execution_count": 17,
   "metadata": {},
   "outputs": [
    {
     "data": {
      "text/plain": [
       "data_science_who_like"
      ]
     },
     "execution_count": 17,
     "metadata": {},
     "output_type": "execute_result"
    }
   ],
   "source": [
    "\"Find the ids of all users who like the target interest.\"\n",
    "data_science_who_like(target_interest) = [\n",
    "    user_id\n",
    "    for\n",
    "    (user_id, user_interest) in interests if user_interest == target_interest\n",
    "]"
   ]
  },
  {
   "cell_type": "code",
   "execution_count": 18,
   "metadata": {},
   "outputs": [
    {
     "data": {
      "text/plain": [
       "2-element Array{Int64,1}:\n",
       " 0\n",
       " 9"
      ]
     },
     "execution_count": 18,
     "metadata": {},
     "output_type": "execute_result"
    }
   ],
   "source": [
    "data_science_who_like(\"Hadoop\")"
   ]
  },
  {
   "cell_type": "code",
   "execution_count": 19,
   "metadata": {},
   "outputs": [],
   "source": [
    "# Keys are interest, values are list of user_ids with that interest\n",
    "user_ids_by_interest = DefaultDict(() -> [])\n",
    "\n",
    "for (user_id, interest) in interests\n",
    "    push!(user_ids_by_interest[interests], user_id)\n",
    "end"
   ]
  },
  {
   "cell_type": "code",
   "execution_count": 20,
   "metadata": {},
   "outputs": [
    {
     "data": {
      "text/plain": [
       "DefaultDict{Any,Any,var\"#21#22\"} with 10 entries:\n",
       "  0 => Any[\"Hadoop\", \"Big Data\", \"HBase\", \"Java\", \"Spark\", \"Storm\", \"Cassandra\"]\n",
       "  4 => Any[\"machine learning\", \"regression\", \"decision trees\", \"libsvm\"]\n",
       "  7 => Any[\"machine learning\", \"scikit-learn\", \"Mahout\", \"neural networks\"]\n",
       "  9 => Any[\"Hadoop\", \"Java\", \"MapReduce\", \"Big Data\"]\n",
       "  2 => Any[\"Python\", \"scikit-learn\", \"scipy\", \"numpy\", \"statsmodels\", \"pandas\"]\n",
       "  3 => Any[\"R\", \"Python\", \"statistics\", \"regression\", \"probability\"]\n",
       "  5 => Any[\"Python\", \"R\", \"Java\", \"C++\", \"Haskell\", \"programming languages\"]\n",
       "  8 => Any[\"neural networks\", \"deep learning\", \"Big Data\", \"artificial intellig…\n",
       "  6 => Any[\"statistics\", \"probability\", \"mathematics\", \"theory\"]\n",
       "  1 => Any[\"NoSQL\", \"MongoDB\", \"Cassandra\", \"HBase\", \"Postgres\"]"
      ]
     },
     "execution_count": 20,
     "metadata": {},
     "output_type": "execute_result"
    }
   ],
   "source": [
    "# Keys are user_ids, values are lists of interest for that user_id\n",
    "interests_by_user_id = DefaultDict(() -> [])\n",
    "\n",
    "for (user_id, interest) in interests\n",
    "    push!(interests_by_user_id[user_id], interest)\n",
    "end\n",
    "\n",
    "\n",
    "interests_by_user_id"
   ]
  },
  {
   "cell_type": "code",
   "execution_count": 21,
   "metadata": {},
   "outputs": [
    {
     "data": {
      "text/plain": [
       "most_common_interest_with (generic function with 1 method)"
      ]
     },
     "execution_count": 21,
     "metadata": {},
     "output_type": "execute_result"
    }
   ],
   "source": [
    "most_common_interest_with(user) = counter(\n",
    "    interested_user_id for interest in interests_by_user_id[user.id]\n",
    "    for\n",
    "    interested_user_id in user_ids_by_interest[interests] if\n",
    "    interested_user_id != user.id\n",
    ")"
   ]
  },
  {
   "cell_type": "code",
   "execution_count": 22,
   "metadata": {},
   "outputs": [
    {
     "data": {
      "text/plain": [
       "Accumulator{Any,Int64} with 9 entries:\n",
       "  0 => 35\n",
       "  4 => 20\n",
       "  7 => 20\n",
       "  9 => 20\n",
       "  2 => 30\n",
       "  3 => 25\n",
       "  5 => 30\n",
       "  8 => 20\n",
       "  6 => 20"
      ]
     },
     "execution_count": 22,
     "metadata": {},
     "output_type": "execute_result"
    }
   ],
   "source": [
    "most_common_interest_with(users[2])"
   ]
  },
  {
   "cell_type": "code",
   "execution_count": 23,
   "metadata": {},
   "outputs": [
    {
     "data": {
      "text/plain": [
       "10-element Array{Tuple{Int64,Real},1}:\n",
       " (83000, 8.7)\n",
       " (88000, 8.1)\n",
       " (48000, 0.7)\n",
       " (76000, 6)\n",
       " (69000, 6.5)\n",
       " (76000, 7.5)\n",
       " (60000, 2.5)\n",
       " (83000, 10)\n",
       " (48000, 1.9)\n",
       " (63000, 4.2)"
      ]
     },
     "execution_count": 23,
     "metadata": {},
     "output_type": "execute_result"
    }
   ],
   "source": [
    "salaries_and_tenures = [(83000, 8.7), (88000, 8.1),\n",
    "                        (48000, 0.7), (76000, 6),\n",
    "                        (69000, 6.5), (76000, 7.5),\n",
    "                        (60000, 2.5), (83000, 10),\n",
    "                        (48000, 1.9), (63000, 4.2)]"
   ]
  },
  {
   "cell_type": "code",
   "execution_count": 24,
   "metadata": {},
   "outputs": [
    {
     "data": {
      "text/plain": [
       "DefaultDict{Any,Any,var\"#27#28\"} with 0 entries"
      ]
     },
     "execution_count": 24,
     "metadata": {},
     "output_type": "execute_result"
    }
   ],
   "source": [
    "salary_by_tenure = DefaultDict(() -> [])"
   ]
  },
  {
   "cell_type": "code",
   "execution_count": 25,
   "metadata": {},
   "outputs": [
    {
     "data": {
      "text/plain": [
       "DefaultDict{Any,Any,var\"#27#28\"} with 10 entries:\n",
       "  0.7 => Any[48000]\n",
       "  6.5 => Any[69000]\n",
       "  7.5 => Any[76000]\n",
       "  10  => Any[83000]\n",
       "  4.2 => Any[63000]\n",
       "  2.5 => Any[60000]\n",
       "  8.7 => Any[83000]\n",
       "  1.9 => Any[48000]\n",
       "  6   => Any[76000]\n",
       "  8.1 => Any[88000]"
      ]
     },
     "execution_count": 25,
     "metadata": {},
     "output_type": "execute_result"
    }
   ],
   "source": [
    "for (salary, tenure) in salaries_and_tenures\n",
    "    push!(salary_by_tenure[tenure], salary)\n",
    "end\n",
    "\n",
    "salary_by_tenure"
   ]
  },
  {
   "cell_type": "code",
   "execution_count": 26,
   "metadata": {},
   "outputs": [
    {
     "data": {
      "text/plain": [
       "Dict{Real,Float64} with 10 entries:\n",
       "  8.1 => 88000.0\n",
       "  6.5 => 69000.0\n",
       "  7.5 => 76000.0\n",
       "  10  => 83000.0\n",
       "  4.2 => 63000.0\n",
       "  2.5 => 60000.0\n",
       "  8.7 => 83000.0\n",
       "  1.9 => 48000.0\n",
       "  6   => 76000.0\n",
       "  0.7 => 48000.0"
      ]
     },
     "execution_count": 26,
     "metadata": {},
     "output_type": "execute_result"
    }
   ],
   "source": [
    "average_salary_by_tenure = Dict(tenure => sum(salaries) / length(salaries) for (tenure, salaries) in salary_by_tenure)"
   ]
  },
  {
   "cell_type": "code",
   "execution_count": 27,
   "metadata": {},
   "outputs": [
    {
     "data": {
      "text/plain": [
       "tenure_bucket (generic function with 1 method)"
      ]
     },
     "execution_count": 27,
     "metadata": {},
     "output_type": "execute_result"
    }
   ],
   "source": [
    "tenure_bucket(tenure) = if tenure < 2\n",
    "    \"less than 2\"\n",
    "    elseif tenure < 5\n",
    "    \"between two and five\"\n",
    "else\n",
    "    \"more than five\"\n",
    "end"
   ]
  },
  {
   "cell_type": "code",
   "execution_count": 28,
   "metadata": {},
   "outputs": [
    {
     "data": {
      "text/plain": [
       "DefaultDict{Any,Any,var\"#31#32\"} with 0 entries"
      ]
     },
     "execution_count": 28,
     "metadata": {},
     "output_type": "execute_result"
    }
   ],
   "source": [
    "salary_by_tenure_bucket = DefaultDict(() -> [])"
   ]
  },
  {
   "cell_type": "code",
   "execution_count": 29,
   "metadata": {},
   "outputs": [
    {
     "data": {
      "text/plain": [
       "DefaultDict{Any,Any,var\"#31#32\"} with 3 entries:\n",
       "  \"less than 2\"          => Any[48000, 48000]\n",
       "  \"between two and five\" => Any[60000, 63000]\n",
       "  \"more than five\"       => Any[83000, 88000, 76000, 69000, 76000, 83000]"
      ]
     },
     "execution_count": 29,
     "metadata": {},
     "output_type": "execute_result"
    }
   ],
   "source": [
    "for (salary, tenure) in salaries_and_tenures\n",
    "    bucket = tenure_bucket(tenure)\n",
    "    push!(salary_by_tenure_bucket[bucket], salary)\n",
    "end\n",
    "salary_by_tenure_bucket"
   ]
  },
  {
   "cell_type": "code",
   "execution_count": 30,
   "metadata": {},
   "outputs": [
    {
     "data": {
      "text/plain": [
       "Dict{String,Float64} with 3 entries:\n",
       "  \"less than 2\"          => 48000.0\n",
       "  \"between two and five\" => 61500.0\n",
       "  \"more than five\"       => 79166.7"
      ]
     },
     "execution_count": 30,
     "metadata": {},
     "output_type": "execute_result"
    }
   ],
   "source": [
    "average_salary_by_bucket = Dict(tenure_bucket => sum(salaries) / length(salaries) for (tenure_bucket, salaries) in salary_by_tenure_bucket)"
   ]
  },
  {
   "cell_type": "code",
   "execution_count": 31,
   "metadata": {},
   "outputs": [
    {
     "data": {
      "text/plain": [
       "predict_paid_or_unpaid (generic function with 1 method)"
      ]
     },
     "execution_count": 31,
     "metadata": {},
     "output_type": "execute_result"
    }
   ],
   "source": [
    "predict_paid_or_unpaid(years_experience) = if years_experience < 3\n",
    "    \"paid\"\n",
    "elseif years_experience < 8.5\n",
    "    \"unpaid\"\n",
    "else\n",
    "    \"paid\"\n",
    "end"
   ]
  },
  {
   "cell_type": "code",
   "execution_count": 32,
   "metadata": {},
   "outputs": [
    {
     "data": {
      "text/plain": [
       "Accumulator{Any,Int64} with 39 entries:\n",
       "  \"storm\"        => 1\n",
       "  \"deep\"         => 1\n",
       "  \"statsmodels\"  => 1\n",
       "  \"data\"         => 3\n",
       "  \"mongodb\"      => 1\n",
       "  \"r\"            => 2\n",
       "  \"postgres\"     => 1\n",
       "  \"big\"          => 3\n",
       "  \"java\"         => 3\n",
       "  \"c++\"          => 1\n",
       "  \"languages\"    => 1\n",
       "  \"spark\"        => 1\n",
       "  \"scikit-learn\" => 2\n",
       "  \"mahout\"       => 1\n",
       "  \"programming\"  => 1\n",
       "  \"networks\"     => 2\n",
       "  \"decision\"     => 1\n",
       "  \"libsvm\"       => 1\n",
       "  \"mathematics\"  => 1\n",
       "  \"theory\"       => 1\n",
       "  \"statistics\"   => 2\n",
       "  \"pandas\"       => 1\n",
       "  \"haskell\"      => 1\n",
       "  \"trees\"        => 1\n",
       "  \"nosql\"        => 1\n",
       "  ⋮              => ⋮"
      ]
     },
     "execution_count": 32,
     "metadata": {},
     "output_type": "execute_result"
    }
   ],
   "source": [
    "words_and_counts = counter(word for (user,interest) in interests for word in split(lowercase(interest)))"
   ]
  },
  {
   "cell_type": "code",
   "execution_count": 33,
   "metadata": {},
   "outputs": [
    {
     "name": "stdout",
     "output_type": "stream",
     "text": [
      "data3\n",
      "big3\n",
      "java3\n",
      "python3\n",
      "learning3\n",
      "r2\n",
      "scikit-learn2\n",
      "networks2\n",
      "statistics2\n",
      "regression2\n",
      "neural2\n",
      "machine2\n",
      "hadoop2\n",
      "cassandra2\n",
      "hbase2\n",
      "probability2\n"
     ]
    }
   ],
   "source": [
    "for (word, count) in sort(collect(words_and_counts), by= kv -> kv[2], rev=true)\n",
    "    if count > 1\n",
    "        println(word, count)\n",
    "    end\n",
    "end"
   ]
  }
 ],
 "metadata": {
  "kernelspec": {
   "display_name": "Julia 1.4.1",
   "language": "julia",
   "name": "julia-1.4"
  },
  "language_info": {
   "file_extension": ".jl",
   "mimetype": "application/julia",
   "name": "julia",
   "version": "1.4.1"
  }
 },
 "nbformat": 4,
 "nbformat_minor": 4
}
